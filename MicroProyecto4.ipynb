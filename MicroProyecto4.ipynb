{
 "cells": [
  {
   "cell_type": "markdown",
   "id": "90abd3e7-103d-4ae9-9684-7d10290f1e17",
   "metadata": {},
   "source": [
    "### Universidad del Valle de Guatemala\n",
    "### Modelado y Simulacion\n",
    "#### MICRO PROYECTO 4\n",
    "##### Juan Marroquin 19845\n",
    "##### Carlos Raxtum 19721"
   ]
  },
  {
   "cell_type": "markdown",
   "id": "812d950e-4520-4e3d-bf29-d1e17cb70e8d",
   "metadata": {},
   "source": [
    "import libraries"
   ]
  },
  {
   "cell_type": "code",
   "execution_count": 1,
   "id": "95bfac46-6e31-47e8-ab05-8be48120ecb7",
   "metadata": {},
   "outputs": [],
   "source": [
    "import numpy as np\n",
    "from random import random , uniform\n",
    "import matplotlib.pyplot as plt\n",
    "import math\n",
    "import numpy as np\n",
    "from scipy.integrate import quad\n",
    "import random"
   ]
  },
  {
   "cell_type": "markdown",
   "id": "7acf10d3-b1c8-4d1c-98c6-95a33095151b",
   "metadata": {},
   "source": [
    "#### Ejercicio 1\n",
    "#### El triángulo de Sierpinski es uno de los fractales más famosos. Un fractal se puede construir a través de saltos aleatorios entre funciones determinísticas (juegos de caos). Considere las siguientes tres funciones:\n",
    "* Point f1(Point p): return Point(p.x/2, p.y/2)\n",
    "* Point f2(Point p): return Point(p.x/2 + 0.5, p.y/2)\n",
    "* Point f3(Point p): return Point(p.x/2 + 0.25, p.y/2 + 0.5)\n",
    "#### Estas funciones toman como parámetro el punto anterior en el fractal, y lo utilizan para generar el siguiente punto (paso determinístico).\n",
    "#### La idea de los juegos del caos es simular una variable aleatoria X, para elegir la función a utilizar para calcular el siguiente punto. Noten que X debe ser discreta por tanto:\n",
    "        P(X=x1) = p1, P(X=x2) = p2, P(X=x3) = p3, tal que p1 + p2 + p3 = 1"
   ]
  },
  {
   "cell_type": "code",
   "execution_count": null,
   "id": "dd912c22-1792-4a51-a303-e900c2c5e42c",
   "metadata": {},
   "outputs": [],
   "source": [
    "#### Tasks:\n",
    "* 1. Cree un programa que simule 100,000 veces X para elegir entre f1, f2 y f3, dibuje un triángulo de Sierpinski\n",
    "* 2. Determine experimentalmente p1, p2, p3 que hacen su dibujo más denso"
   ]
  }
 ],
 "metadata": {
  "kernelspec": {
   "display_name": "Python 3 (ipykernel)",
   "language": "python",
   "name": "python3"
  },
  "language_info": {
   "codemirror_mode": {
    "name": "ipython",
    "version": 3
   },
   "file_extension": ".py",
   "mimetype": "text/x-python",
   "name": "python",
   "nbconvert_exporter": "python",
   "pygments_lexer": "ipython3",
   "version": "3.9.13"
  }
 },
 "nbformat": 4,
 "nbformat_minor": 5
}
