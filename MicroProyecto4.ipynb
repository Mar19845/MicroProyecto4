{
 "cells": [
  {
   "cell_type": "markdown",
   "id": "90abd3e7-103d-4ae9-9684-7d10290f1e17",
   "metadata": {},
   "source": [
    "### Universidad del Valle de Guatemala\n",
    "### Modelado y Simulacion\n",
    "#### MICRO PROYECTO 4\n",
    "##### Juan Marroquin 19845\n",
    "##### Carlos Raxtum 19721"
   ]
  },
  {
   "cell_type": "markdown",
   "id": "812d950e-4520-4e3d-bf29-d1e17cb70e8d",
   "metadata": {},
   "source": [
    "import libraries"
   ]
  },
  {
   "cell_type": "code",
   "execution_count": 1,
   "id": "95bfac46-6e31-47e8-ab05-8be48120ecb7",
   "metadata": {},
   "outputs": [],
   "source": [
    "import numpy as np\n",
    "import math\n",
    "import random\n",
    "import matplotlib.pyplot as plt"
   ]
  },
  {
   "cell_type": "markdown",
   "id": "7acf10d3-b1c8-4d1c-98c6-95a33095151b",
   "metadata": {},
   "source": [
    "#### Seed para generador de númerosa aleatorios uniformes"
   ]
  },
  {
   "cell_type": "code",
   "execution_count": 2,
   "id": "209c5255-ef04-40aa-a5ab-f85f78d82436",
   "metadata": {},
   "outputs": [],
   "source": [
    "random.seed(69)"
   ]
  },
  {
   "cell_type": "markdown",
   "id": "9c3d3f0d-c036-4d61-9d5e-67a5d81c4092",
   "metadata": {},
   "source": [
    "#### Generador de Numeros Aleatorios"
   ]
  },
  {
   "cell_type": "code",
   "execution_count": 3,
   "id": "9d513bca-e8d5-447c-a5e2-a83e15eeee65",
   "metadata": {},
   "outputs": [],
   "source": [
    "def Exponential(Lambda):\n",
    "    return -float((1./Lambda)*math.log(random.random()))"
   ]
  },
  {
   "cell_type": "code",
   "execution_count": 4,
   "id": "4411817a-e5a4-444b-84ce-056bf0b5d1d8",
   "metadata": {},
   "outputs": [],
   "source": [
    "def Poisson(s, lamda):\n",
    "    return s-(1/lamda)*math.log(random.random())"
   ]
  },
  {
   "cell_type": "markdown",
   "id": "49441aac-547a-4ea5-9098-eaedbf026f68",
   "metadata": {},
   "source": [
    "#### MountainMegaComputing simulator"
   ]
  },
  {
   "cell_type": "code",
   "execution_count": 5,
   "id": "7135ba39-608d-4963-93bd-cb8ebcc40d09",
   "metadata": {},
   "outputs": [],
   "source": [
    "def MountainMegaComputing(num_sol=2400.,tiempo_benchMark=3600):\n",
    "    inf = float('inf')\n",
    "    solicitudesXsegundo = num_sol/60\n",
    "    t,num_A,num_D,t_arrival,t_departures,n,time_process = 0,0,0,0,0,0,0\n",
    "    T = tiempo_benchMark # final time\n",
    "    arrivals,departures = [],[]\n",
    "    while t<=T:\n",
    "        if(t_arrival<=t_departures and t_arrival<=T):\n",
    "            t = t_arrival\n",
    "            num_A = num_A + 1\n",
    "            n = n + 1\n",
    "            t_arrival = Poisson(t,solicitudesXsegundo)\n",
    "            if n==1:\n",
    "                Y = Exponential(solicitudesXsegundo)\n",
    "                t_departures = t + Y\n",
    "            arrivals.append(t)\n",
    "        elif(t_departures<t_arrival and t_departures<=T):\n",
    "            t = t_departures\n",
    "            n = n - 1\n",
    "            num_D = num_D +1\n",
    "            if n == 0:\n",
    "                t_departures = inf\n",
    "            else:\n",
    "                Y = Exponential(solicitudesXsegundo)\n",
    "                t_departures = t + Y\n",
    "                t = t_departures\n",
    "            departures.append(t)\n",
    "        \n",
    "        elif(min(t_arrival,t_departures) > T and n > 0):\n",
    "            t =t_departures\n",
    "            n = n - 1\n",
    "            num_D = num_D + 1\n",
    "            if n>0:\n",
    "                Y = Exponential(solicitudesXsegundo)\n",
    "                t_departures = t + Y\n",
    "                t = t_departures\n",
    "            departures.append(t)\n",
    "        elif(min(t_arrival,t_departures) >T and n == 0):\n",
    "            time_process = max(t - T,0)\n",
    "            \n",
    "            break\n",
    "    \n",
    "    total = 0\n",
    "    for k in range(len(departures)):\n",
    "        total += departures[k]-arrivals[k]\n",
    "    prom = total/len(arrivals)\n",
    "    print(\"ESTE ES EL RESULTADO PARA EL SERVIDOR Mountain Mega Computing\")\n",
    "    print(\"El numero de llegadas al servidor fue de: \", num_A)\n",
    "    print(\"El tiempo que estuvo ocupado el servidor fue: \", round(t_departures,2))\n",
    "    print(\"El tiempo que estuvo libre el servidor fue de: \", round(t_departures - t_arrival,2))\n",
    "    print(\"El tiempo en total estuvieron las solicitudes en cola: \",round(total,2))\n",
    "    print(\"El tiempo promedio que estuvo cada solitud en cola: \",round(prom ,2))\n",
    "    print(\"El numero de solicitudes que estuvieron en cola cada segundo: \", round(len(arrivals)/60,2))\n",
    "    print(\"El numero de solicitudes en cola al momento de terminar la simulacion: \",round(len(arrivals)-len(departures),2))"
   ]
  },
  {
   "cell_type": "markdown",
   "id": "1dfbdd3b-3d78-4576-b795-f38a90e34b3c",
   "metadata": {},
   "source": [
    "#### PizzaComputing simulator"
   ]
  },
  {
   "cell_type": "code",
   "execution_count": 36,
   "id": "331de834-1ebb-4a1d-b731-db069fce3302",
   "metadata": {},
   "outputs": [],
   "source": [
    "def PizzaComputing(num_server,num_sol=2400.,tiempo_benchMark=3600,show=True):\n",
    "    inf = float('inf')                             \n",
    "    T = tiempo_benchMark                                                         \n",
    "    num_A,t = 0,0\n",
    "    arrivals,departures,server = [],[],[]                                           \n",
    "    solicitudesXsegundo = ((num_sol*0.10)/60)\n",
    "    t_arrival = Exponential(solicitudesXsegundo)             \n",
    "    t_departures = [100000]*num_server                   \n",
    "    process_servers = [0]*num_server                        \n",
    "    solicitude_Server = [0]*(1+num_server)                    \n",
    "    \n",
    "    while t < T or solicitude_Server[0] > 0:           \n",
    "        m = min(t_departures)\n",
    "        min_time = t_departures.index(m)            \n",
    "        \n",
    "        if t_arrival < t_departures[min_time] and t_arrival< T:   \n",
    "            t = t_arrival                      \n",
    "            num_A = num_A +  1                \n",
    "            t_arrival = t_arrival + Exponential(solicitudesXsegundo)\n",
    "            arrivals.append(t)                   \n",
    "            \n",
    "            if solicitude_Server[0] == 0:              \n",
    "                server.append(t)            \n",
    "                solicitude_Server[0] += 1              \n",
    "                solicitude_Server[1] = num_A              \n",
    "                t_departures[0] = t + Exponential(10) \n",
    "                \n",
    "            elif solicitude_Server[0] < num_server:            \n",
    "                busy = solicitude_Server.index(0) - 1 \n",
    "                server.append(t)             \n",
    "                solicitude_Server[0] += 1              \n",
    "                solicitude_Server[busy+1] = num_A      \n",
    "                t_departures[busy] = t + Exponential(solicitudesXsegundo) \n",
    "            \n",
    "            else:                      \n",
    "                solicitude_Server[0] += 1              \n",
    "            \n",
    "        else:                           \n",
    "            t = t_departures[min_time]              \n",
    "            process_servers[min_time] += 1             \n",
    "            departures.append(t)                 \n",
    "            \n",
    "            if solicitude_Server[0] <= num_server:            \n",
    "                solicitude_Server[0] -= 1              \n",
    "                t_departures[min_time] = 100000     \n",
    "                solicitude_Server[min_time + 1] = 0      \n",
    "            \n",
    "            else:                       \n",
    "                solicitude_Server[0] *= -1\n",
    "                next_evente = max(solicitude_Server)+1   \n",
    "                solicitude_Server[0] *= -1\n",
    "                server.append(t)                             \n",
    "                solicitude_Server[0] -= 1              \n",
    "                t_departures[min_time] = t + Exponential(solicitudesXsegundo) \n",
    "                solicitude_Server[min_time + 1] = next_evente \n",
    "    total=0\n",
    "    for k in range(len(arrivals)):\n",
    "        resta=server[k]-arrivals[k]\n",
    "        total=total+resta\n",
    "    prom = total/len(arrivals)\n",
    "    if show is True:\n",
    "        print(\"Solicitudes atendididas por cada servidor:\")\n",
    "        print(\"-----------------------------------------\")\n",
    "        for i in range (len(process_servers)):\n",
    "            print(\"\\t\"+\"Servidor \"+str(i+1)+\":\", process_servers[i], \"solicitudes.\")\n",
    "        print(\"-----------------------------------------\")\n",
    "        print(\"Tiempo total: \", sum(t_departures), \"segundos.\")\n",
    "        print(\"Solicitudes atendidas: \", num_A)\n",
    "        print(\"Ultima llegada:\", round(arrivals[-1],2), \"s.\")\n",
    "        print(\"Ultima salida:\", round(departures[-1],2), \"s.\")\n",
    "        print(\"-----------------------------------------\\n\")\n",
    "    print(\"ESTE ES EL RESULTADO PARA EL SERVIDOR Pizza Computing\")\n",
    "    print(\"El numero de llegadas al servidor fue de: \", num_A)\n",
    "    print(\"El tiempo que estuvo ocupado el servidor fue: \", round(sum(t_departures),2))\n",
    "    print(\"El tiempo que estuvo libre el servidor fue de: \", round(sum(t_departures) - t_arrival,2))\n",
    "    print(\"El tiempo en total estuvieron las solicitudes en cola: \",round(total,2))\n",
    "    print(\"El tiempo promedio que estuvo cada solitud en cola: \",round(prom ,2))\n",
    "    print(\"El numero de solicitudes que estuvieron en cola cada segundo: \", round(len(arrivals)/60,2))\n",
    "    print(\"El numero de solicitudes en cola al momento de terminar la simulacion: \",round(len(arrivals)-len(departures),2))"
   ]
  },
  {
   "cell_type": "markdown",
   "id": "3158f0bb-cccb-4351-9881-cd9d3f7f09a8",
   "metadata": {},
   "source": [
    "#### Task 1\n",
    "#### Modele, simule y analice el comportamiento de ambos sistemas durante una hora de ejecución"
   ]
  },
  {
   "cell_type": "markdown",
   "id": "03db7073-343c-4717-9867-0ac8de077160",
   "metadata": {},
   "source": [
    "#### Mountain Mega Computing"
   ]
  },
  {
   "cell_type": "code",
   "execution_count": 37,
   "id": "0b638ee6-4f00-4c07-aecd-534a65ef0b6d",
   "metadata": {},
   "outputs": [
    {
     "name": "stdout",
     "output_type": "stream",
     "text": [
      "ESTE ES EL RESULTADO PARA EL SERVIDOR Mountain Mega Computing\n",
      "El numero de llegadas al servidor fue de:  144309\n",
      "El tiempo que estuvo ocupado el servidor fue:  3600.02\n",
      "El tiempo que estuvo libre el servidor fue de:  0.02\n",
      "El tiempo en total estuvieron las solicitudes en cola:  1139793.75\n",
      "El tiempo promedio que estuvo cada solitud en cola:  7.9\n",
      "El numero de solicitudes que estuvieron en cola cada segundo:  2405.15\n",
      "El numero de solicitudes en cola al momento de terminar la simulacion:  316\n"
     ]
    }
   ],
   "source": [
    "MountainMegaComputing()"
   ]
  },
  {
   "cell_type": "markdown",
   "id": "db8c7ee4-728c-444d-8ba1-2265194ed5d9",
   "metadata": {},
   "source": [
    "#### Pizza Computing"
   ]
  },
  {
   "cell_type": "code",
   "execution_count": 38,
   "id": "76455aba-bb8a-494f-b7d7-907ec6fff781",
   "metadata": {},
   "outputs": [
    {
     "name": "stdout",
     "output_type": "stream",
     "text": [
      "Solicitudes atendididas por cada servidor:\n",
      "-----------------------------------------\n",
      "\tServidor 1: 9580 solicitudes.\n",
      "\tServidor 2: 3172 solicitudes.\n",
      "\tServidor 3: 1264 solicitudes.\n",
      "\tServidor 4: 394 solicitudes.\n",
      "\tServidor 5: 107 solicitudes.\n",
      "\tServidor 6: 22 solicitudes.\n",
      "-----------------------------------------\n",
      "Tiempo total:  600000 segundos.\n",
      "Solicitudes atendidas:  14539\n",
      "Ultima llegada: 3599.99 s.\n",
      "Ultima salida: 3600.07 s.\n",
      "-----------------------------------------\n",
      "\n",
      "ESTE ES EL RESULTADO PARA EL SERVIDOR Pizza Computing\n",
      "El numero de llegadas al servidor fue de:  14539\n",
      "El tiempo que estuvo ocupado el servidor fue:  600000\n",
      "El tiempo que estuvo libre el servidor fue de:  596399.32\n",
      "El tiempo en total estuvieron las solicitudes en cola:  0.6\n",
      "El tiempo promedio que estuvo cada solitud en cola:  0.0\n",
      "El numero de solicitudes que estuvieron en cola cada segundo:  242.32\n",
      "El numero de solicitudes en cola al momento de terminar la simulacion:  0\n"
     ]
    }
   ],
   "source": [
    "PizzaComputing(6,show=True)"
   ]
  },
  {
   "cell_type": "markdown",
   "id": "bebccf7f-1042-48b0-886f-d2a7b371bdcf",
   "metadata": {},
   "source": [
    "#### Task 2\n",
    "#### Determine empíricamente cuántos servidores se necesitaría “alquilar” en Pizzita computing para asegurar que siempre habrá al menos un servidor disponible para atender una solicitud dada"
   ]
  },
  {
   "cell_type": "code",
   "execution_count": 39,
   "id": "fb7a2fd8-832a-4691-8ee9-d7d661b2ba51",
   "metadata": {},
   "outputs": [
    {
     "name": "stdout",
     "output_type": "stream",
     "text": [
      "-----------------------------------------\n",
      "PARA  1  SERVIDORES\n",
      "ESTE ES EL RESULTADO PARA EL SERVIDOR Pizza Computing\n",
      "El numero de llegadas al servidor fue de:  14510\n",
      "El tiempo que estuvo ocupado el servidor fue:  100000\n",
      "El tiempo que estuvo libre el servidor fue de:  96399.94\n",
      "El tiempo en total estuvieron las solicitudes en cola:  291613.89\n",
      "El tiempo promedio que estuvo cada solitud en cola:  20.1\n",
      "El numero de solicitudes que estuvieron en cola cada segundo:  241.83\n",
      "El numero de solicitudes en cola al momento de terminar la simulacion:  0\n",
      "-----------------------------------------\n",
      "\n",
      "-----------------------------------------\n",
      "PARA  2  SERVIDORES\n",
      "ESTE ES EL RESULTADO PARA EL SERVIDOR Pizza Computing\n",
      "El numero de llegadas al servidor fue de:  14307\n",
      "El tiempo que estuvo ocupado el servidor fue:  200000\n",
      "El tiempo que estuvo libre el servidor fue de:  196399.95\n",
      "El tiempo en total estuvieron las solicitudes en cola:  634.54\n",
      "El tiempo promedio que estuvo cada solitud en cola:  0.04\n",
      "El numero de solicitudes que estuvieron en cola cada segundo:  238.45\n",
      "El numero de solicitudes en cola al momento de terminar la simulacion:  0\n",
      "-----------------------------------------\n",
      "\n",
      "-----------------------------------------\n",
      "PARA  3  SERVIDORES\n",
      "ESTE ES EL RESULTADO PARA EL SERVIDOR Pizza Computing\n",
      "El numero de llegadas al servidor fue de:  14411\n",
      "El tiempo que estuvo ocupado el servidor fue:  300000\n",
      "El tiempo que estuvo libre el servidor fue de:  296399.98\n",
      "El tiempo en total estuvieron las solicitudes en cola:  70.61\n",
      "El tiempo promedio que estuvo cada solitud en cola:  0.0\n",
      "El numero de solicitudes que estuvieron en cola cada segundo:  240.18\n",
      "El numero de solicitudes en cola al momento de terminar la simulacion:  -1\n",
      "-----------------------------------------\n",
      "\n",
      "-----------------------------------------\n",
      "PARA  4  SERVIDORES\n",
      "ESTE ES EL RESULTADO PARA EL SERVIDOR Pizza Computing\n",
      "El numero de llegadas al servidor fue de:  14297\n",
      "El tiempo que estuvo ocupado el servidor fue:  400000\n",
      "El tiempo que estuvo libre el servidor fue de:  396399.76\n",
      "El tiempo en total estuvieron las solicitudes en cola:  11.15\n",
      "El tiempo promedio que estuvo cada solitud en cola:  0.0\n",
      "El numero de solicitudes que estuvieron en cola cada segundo:  238.28\n",
      "El numero de solicitudes en cola al momento de terminar la simulacion:  -1\n",
      "-----------------------------------------\n",
      "\n",
      "-----------------------------------------\n",
      "PARA  5  SERVIDORES\n",
      "ESTE ES EL RESULTADO PARA EL SERVIDOR Pizza Computing\n",
      "El numero de llegadas al servidor fue de:  14271\n",
      "El tiempo que estuvo ocupado el servidor fue:  500000\n",
      "El tiempo que estuvo libre el servidor fue de:  496398.9\n",
      "El tiempo en total estuvieron las solicitudes en cola:  2.52\n",
      "El tiempo promedio que estuvo cada solitud en cola:  0.0\n",
      "El numero de solicitudes que estuvieron en cola cada segundo:  237.85\n",
      "El numero de solicitudes en cola al momento de terminar la simulacion:  0\n",
      "-----------------------------------------\n",
      "\n",
      "-----------------------------------------\n",
      "PARA  6  SERVIDORES\n",
      "ESTE ES EL RESULTADO PARA EL SERVIDOR Pizza Computing\n",
      "El numero de llegadas al servidor fue de:  14408\n",
      "El tiempo que estuvo ocupado el servidor fue:  600000\n",
      "El tiempo que estuvo libre el servidor fue de:  596399.97\n",
      "El tiempo en total estuvieron las solicitudes en cola:  0.09\n",
      "El tiempo promedio que estuvo cada solitud en cola:  0.0\n",
      "El numero de solicitudes que estuvieron en cola cada segundo:  240.13\n",
      "El numero de solicitudes en cola al momento de terminar la simulacion:  -1\n",
      "-----------------------------------------\n",
      "\n",
      "-----------------------------------------\n",
      "PARA  7  SERVIDORES\n",
      "ESTE ES EL RESULTADO PARA EL SERVIDOR Pizza Computing\n",
      "El numero de llegadas al servidor fue de:  14279\n",
      "El tiempo que estuvo ocupado el servidor fue:  700000\n",
      "El tiempo que estuvo libre el servidor fue de:  696399.91\n",
      "El tiempo en total estuvieron las solicitudes en cola:  0.0\n",
      "El tiempo promedio que estuvo cada solitud en cola:  0.0\n",
      "El numero de solicitudes que estuvieron en cola cada segundo:  237.98\n",
      "El numero de solicitudes en cola al momento de terminar la simulacion:  0\n",
      "-----------------------------------------\n",
      "\n",
      "-----------------------------------------\n",
      "PARA  8  SERVIDORES\n",
      "ESTE ES EL RESULTADO PARA EL SERVIDOR Pizza Computing\n",
      "El numero de llegadas al servidor fue de:  14333\n",
      "El tiempo que estuvo ocupado el servidor fue:  800000\n",
      "El tiempo que estuvo libre el servidor fue de:  796399.67\n",
      "El tiempo en total estuvieron las solicitudes en cola:  0.0\n",
      "El tiempo promedio que estuvo cada solitud en cola:  0.0\n",
      "El numero de solicitudes que estuvieron en cola cada segundo:  238.88\n",
      "El numero de solicitudes en cola al momento de terminar la simulacion:  0\n",
      "-----------------------------------------\n",
      "\n",
      "-----------------------------------------\n",
      "PARA  9  SERVIDORES\n",
      "ESTE ES EL RESULTADO PARA EL SERVIDOR Pizza Computing\n",
      "El numero de llegadas al servidor fue de:  14629\n",
      "El tiempo que estuvo ocupado el servidor fue:  900000\n",
      "El tiempo que estuvo libre el servidor fue de:  896399.71\n",
      "El tiempo en total estuvieron las solicitudes en cola:  0.0\n",
      "El tiempo promedio que estuvo cada solitud en cola:  0.0\n",
      "El numero de solicitudes que estuvieron en cola cada segundo:  243.82\n",
      "El numero de solicitudes en cola al momento de terminar la simulacion:  0\n",
      "-----------------------------------------\n",
      "\n",
      "-----------------------------------------\n",
      "PARA  10  SERVIDORES\n",
      "ESTE ES EL RESULTADO PARA EL SERVIDOR Pizza Computing\n",
      "El numero de llegadas al servidor fue de:  14303\n",
      "El tiempo que estuvo ocupado el servidor fue:  1000000\n",
      "El tiempo que estuvo libre el servidor fue de:  996399.62\n",
      "El tiempo en total estuvieron las solicitudes en cola:  0.0\n",
      "El tiempo promedio que estuvo cada solitud en cola:  0.0\n",
      "El numero de solicitudes que estuvieron en cola cada segundo:  238.38\n",
      "El numero de solicitudes en cola al momento de terminar la simulacion:  -1\n",
      "-----------------------------------------\n",
      "\n",
      "-----------------------------------------\n",
      "PARA  11  SERVIDORES\n",
      "ESTE ES EL RESULTADO PARA EL SERVIDOR Pizza Computing\n",
      "El numero de llegadas al servidor fue de:  14299\n",
      "El tiempo que estuvo ocupado el servidor fue:  1100000\n",
      "El tiempo que estuvo libre el servidor fue de:  1096399.63\n",
      "El tiempo en total estuvieron las solicitudes en cola:  0.0\n",
      "El tiempo promedio que estuvo cada solitud en cola:  0.0\n",
      "El numero de solicitudes que estuvieron en cola cada segundo:  238.32\n",
      "El numero de solicitudes en cola al momento de terminar la simulacion:  0\n",
      "-----------------------------------------\n",
      "\n",
      "-----------------------------------------\n",
      "PARA  12  SERVIDORES\n",
      "ESTE ES EL RESULTADO PARA EL SERVIDOR Pizza Computing\n",
      "El numero de llegadas al servidor fue de:  14400\n",
      "El tiempo que estuvo ocupado el servidor fue:  1200000\n",
      "El tiempo que estuvo libre el servidor fue de:  1196399.98\n",
      "El tiempo en total estuvieron las solicitudes en cola:  0.0\n",
      "El tiempo promedio que estuvo cada solitud en cola:  0.0\n",
      "El numero de solicitudes que estuvieron en cola cada segundo:  240.0\n",
      "El numero de solicitudes en cola al momento de terminar la simulacion:  -1\n",
      "-----------------------------------------\n",
      "\n",
      "-----------------------------------------\n",
      "PARA  13  SERVIDORES\n",
      "ESTE ES EL RESULTADO PARA EL SERVIDOR Pizza Computing\n",
      "El numero de llegadas al servidor fue de:  14525\n",
      "El tiempo que estuvo ocupado el servidor fue:  1300000\n",
      "El tiempo que estuvo libre el servidor fue de:  1296399.98\n",
      "El tiempo en total estuvieron las solicitudes en cola:  0.0\n",
      "El tiempo promedio que estuvo cada solitud en cola:  0.0\n",
      "El numero de solicitudes que estuvieron en cola cada segundo:  242.08\n",
      "El numero de solicitudes en cola al momento de terminar la simulacion:  -1\n",
      "-----------------------------------------\n",
      "\n",
      "-----------------------------------------\n",
      "PARA  14  SERVIDORES\n",
      "ESTE ES EL RESULTADO PARA EL SERVIDOR Pizza Computing\n",
      "El numero de llegadas al servidor fue de:  14358\n",
      "El tiempo que estuvo ocupado el servidor fue:  1400000\n",
      "El tiempo que estuvo libre el servidor fue de:  1396399.71\n",
      "El tiempo en total estuvieron las solicitudes en cola:  0.0\n",
      "El tiempo promedio que estuvo cada solitud en cola:  0.0\n",
      "El numero de solicitudes que estuvieron en cola cada segundo:  239.3\n",
      "El numero de solicitudes en cola al momento de terminar la simulacion:  0\n",
      "-----------------------------------------\n",
      "\n",
      "-----------------------------------------\n",
      "PARA  15  SERVIDORES\n",
      "ESTE ES EL RESULTADO PARA EL SERVIDOR Pizza Computing\n",
      "El numero de llegadas al servidor fue de:  14184\n",
      "El tiempo que estuvo ocupado el servidor fue:  1500000\n",
      "El tiempo que estuvo libre el servidor fue de:  1496399.93\n",
      "El tiempo en total estuvieron las solicitudes en cola:  0.0\n",
      "El tiempo promedio que estuvo cada solitud en cola:  0.0\n",
      "El numero de solicitudes que estuvieron en cola cada segundo:  236.4\n",
      "El numero de solicitudes en cola al momento de terminar la simulacion:  -1\n",
      "-----------------------------------------\n",
      "\n"
     ]
    }
   ],
   "source": [
    "for i in range(1,16):\n",
    "    print(\"-----------------------------------------\")\n",
    "    print('PARA ',i,' SERVIDORES')\n",
    "    PizzaComputing(i,show=False)\n",
    "    print(\"-----------------------------------------\\n\")"
   ]
  },
  {
   "cell_type": "markdown",
   "id": "2831a319-6ab9-44a8-bf1a-190e960d86b9",
   "metadata": {},
   "source": [
    "#### Task 3\n",
    "#### Se espera que apartir del tercer año del lanzamiento de su aplicación , la cantidad de usuarios sufra un alza, y por tanto deberán atender como máximo 6000 solicitudes por minuto"
   ]
  },
  {
   "cell_type": "markdown",
   "id": "cac01236-b0d4-4a6a-aa58-dcde2ce36f1e",
   "metadata": {},
   "source": [
    "#### Mountain Mega Computing"
   ]
  },
  {
   "cell_type": "code",
   "execution_count": 40,
   "id": "24b30a3d-b402-4d2f-9f87-79ab5ac8c761",
   "metadata": {},
   "outputs": [
    {
     "name": "stdout",
     "output_type": "stream",
     "text": [
      "ESTE ES EL RESULTADO PARA EL SERVIDOR Mountain Mega Computing\n",
      "El numero de llegadas al servidor fue de:  359913\n",
      "El tiempo que estuvo ocupado el servidor fue:  3600.01\n",
      "El tiempo que estuvo libre el servidor fue de:  0.03\n",
      "El tiempo en total estuvieron las solicitudes en cola:  1483381.68\n",
      "El tiempo promedio que estuvo cada solitud en cola:  4.12\n",
      "El numero de solicitudes que estuvieron en cola cada segundo:  5998.55\n",
      "El numero de solicitudes en cola al momento de terminar la simulacion:  1109\n"
     ]
    }
   ],
   "source": [
    "MountainMegaComputing(num_sol=6000)"
   ]
  },
  {
   "cell_type": "markdown",
   "id": "85291a78-6f67-442f-8aa7-597f8c2bd054",
   "metadata": {},
   "source": [
    "#### Pizza Computing"
   ]
  },
  {
   "cell_type": "code",
   "execution_count": 43,
   "id": "324a6072-fbb2-469d-bdc9-cab429f66110",
   "metadata": {},
   "outputs": [
    {
     "name": "stdout",
     "output_type": "stream",
     "text": [
      "Solicitudes atendididas por cada servidor:\n",
      "-----------------------------------------\n",
      "\tServidor 1: 18081 solicitudes.\n",
      "\tServidor 2: 10877 solicitudes.\n",
      "\tServidor 3: 4824 solicitudes.\n",
      "\tServidor 4: 1595 solicitudes.\n",
      "\tServidor 5: 375 solicitudes.\n",
      "\tServidor 6: 75 solicitudes.\n",
      "\tServidor 7: 12 solicitudes.\n",
      "\tServidor 8: 2 solicitudes.\n",
      "-----------------------------------------\n",
      "Tiempo total:  800000 segundos.\n",
      "Solicitudes atendidas:  35841\n",
      "Ultima llegada: 3599.95 s.\n",
      "Ultima salida: 3600.05 s.\n",
      "-----------------------------------------\n",
      "\n",
      "ESTE ES EL RESULTADO PARA EL SERVIDOR Pizza Computing\n",
      "El numero de llegadas al servidor fue de:  35841\n",
      "El tiempo que estuvo ocupado el servidor fue:  800000\n",
      "El tiempo que estuvo libre el servidor fue de:  796399.94\n",
      "El tiempo en total estuvieron las solicitudes en cola:  0.0\n",
      "El tiempo promedio que estuvo cada solitud en cola:  0.0\n",
      "El numero de solicitudes que estuvieron en cola cada segundo:  597.35\n",
      "El numero de solicitudes en cola al momento de terminar la simulacion:  0\n"
     ]
    }
   ],
   "source": [
    "PizzaComputing(8,show=True,num_sol=6000)"
   ]
  },
  {
   "cell_type": "markdown",
   "id": "afb9f857-6295-4353-994f-9955ad9b9d88",
   "metadata": {},
   "source": [
    "#### Task 4\n",
    "#### Emita una recomendación para la junta directiva"
   ]
  },
  {
   "cell_type": "code",
   "execution_count": null,
   "id": "263a73f5-58a2-46c3-9954-0734cea439e9",
   "metadata": {},
   "outputs": [],
   "source": []
  }
 ],
 "metadata": {
  "kernelspec": {
   "display_name": "Python 3 (ipykernel)",
   "language": "python",
   "name": "python3"
  },
  "language_info": {
   "codemirror_mode": {
    "name": "ipython",
    "version": 3
   },
   "file_extension": ".py",
   "mimetype": "text/x-python",
   "name": "python",
   "nbconvert_exporter": "python",
   "pygments_lexer": "ipython3",
   "version": "3.9.13"
  }
 },
 "nbformat": 4,
 "nbformat_minor": 5
}
